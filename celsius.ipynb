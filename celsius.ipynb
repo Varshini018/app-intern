{
 "cells": [
  {
   "cell_type": "code",
   "execution_count": null,
   "metadata": {
    "vscode": {
     "languageId": "plaintext"
    }
   },
   "outputs": [],
   "source": [
    "import java.util.Scanner;\n",
    "\n",
    "public class TemperatureConverter {\n",
    "    public static void main(String[] args) {\n",
    "        Scanner scanner = new Scanner(System.in);\n",
    "        \n",
    "        System.out.println(\"Temperature Converter\");\n",
    "        System.out.println(\"1. Celsius to Fahrenheit\");\n",
    "        System.out.println(\"2. Fahrenheit to Celsius\");\n",
    "        System.out.print(\"Enter your choice (1/2): \");\n",
    "        \n",
    "        int choice = scanner.nextInt();\n",
    "        double temperature, convertedTemperature;\n",
    "        \n",
    "        if (choice == 1) {\n",
    "            System.out.print(\"Enter temperature in Celsius: \");\n",
    "            temperature = scanner.nextDouble();\n",
    "            convertedTemperature = celsiusToFahrenheit(temperature);\n",
    "            System.out.println(\"Temperature in Fahrenheit: \" + convertedTemperature);\n",
    "        } else if (choice == 2) {\n",
    "            System.out.print(\"Enter temperature in Fahrenheit: \");\n",
    "            temperature = scanner.nextDouble();\n",
    "            convertedTemperature = fahrenheitToCelsius(temperature);\n",
    "            System.out.println(\"Temperature in Celsius: \" + convertedTemperature);\n",
    "        } else {\n",
    "            System.out.println(\"Invalid choice. Please enter 1 or 2.\");\n",
    "        }\n",
    "        \n",
    "        scanner.close();\n",
    "    }\n",
    "    \n",
    "    // Function to convert Celsius to Fahrenheit\n",
    "    public static double celsiusToFahrenheit(double celsius) {\n",
    "        return (celsius * 9/5) + 32;\n",
    "    }\n",
    "    \n",
    "    // Function to convert Fahrenheit to Celsius\n",
    "    public static double fahrenheitToCelsius(double fahrenheit) {\n",
    "        return (fahrenheit - 32) * 5/9;\n",
    "    }\n",
    "}\n"
   ]
  }
 ],
 "metadata": {
  "language_info": {
   "name": "python"
  }
 },
 "nbformat": 4,
 "nbformat_minor": 2
}
